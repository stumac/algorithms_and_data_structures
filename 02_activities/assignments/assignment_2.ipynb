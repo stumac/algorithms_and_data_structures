{
 "cells": [
  {
   "cell_type": "markdown",
   "metadata": {},
   "source": [
    "# Practice Interview\n",
    "\n",
    "## Objective\n",
    "\n",
    "_*The partner assignment aims to provide participants with the opportunity to practice coding in an interview context. You will analyze your partner's Assignment 1. Moreover, code reviews are common practice in a software development team. This assignment should give you a taste of the code review process.*_\n",
    "\n",
    "## Group Size\n",
    "\n",
    "Each group should have 2 people. You will be assigned a partner\n",
    "\n",
    "## Part 1:\n",
    "\n",
    "You and your partner must share each other's Assignment 1 submission."
   ]
  },
  {
   "cell_type": "markdown",
   "metadata": {},
   "source": [
    "\n",
    "## Part 2:\n",
    "\n",
    "Create a Jupyter Notebook, create 6 of the following headings, and complete the following for your partner's assignment 1:\n",
    "\n",
    "-   Paraphrase the problem in your own words.\n"
   ]
  },
  {
   "cell_type": "markdown",
   "metadata": {},
   "source": [
    "# Your answer here\n",
    "We are given a binary tree. It is our responsibility to iterate through it, and check for any duplicates. If there is one duplicate, return it. If there is more than one duplicate, return the one that is closest to the root node.\n",
    "\n",
    "The root node is the node we are given. There is no mention of which traversal we are expected to use."
   ]
  },
  {
   "cell_type": "markdown",
   "metadata": {},
   "source": [
    "\n",
    "-   Create 1 new example that demonstrates you understand the problem. Trace/walkthrough 1 example that your partner made and explain it.\n"
   ]
  },
  {
   "cell_type": "code",
   "execution_count": null,
   "metadata": {},
   "outputs": [],
   "source": [
    "# Your answer here\n",
    "root = [1,2,3,3,6,7,8,8]\n",
    "\"\"\"output: 3\"\"\""
   ]
  },
  {
   "cell_type": "markdown",
   "metadata": {},
   "source": [
    "\n",
    "-   Copy the solution your partner wrote. \n"
   ]
  },
  {
   "cell_type": "code",
   "execution_count": null,
   "metadata": {},
   "outputs": [],
   "source": [
    "# Your answer here\n",
    "from typing import List, Optional\n",
    "from collections import deque\n",
    "\n",
    "# TreeNode definition\n",
    "class TreeNode(object):\n",
    "    def __init__(self, val = 0, left = None, right = None):\n",
    "        self.val = val\n",
    "        self.left = left\n",
    "        self.right = right\n",
    "\n",
    "# Helper function to convert list to binary tree\n",
    "def list_to_binary_tree(items: List[Optional[int]]) -> Optional[TreeNode]:\n",
    "    if not items or items[0] is None:\n",
    "        return None\n",
    "    \n",
    "    iter_items = iter(items)\n",
    "    root = TreeNode(next(iter_items))\n",
    "    queue = [root]\n",
    "    \n",
    "    for item in iter_items:\n",
    "        node = queue.pop(0)\n",
    "        if item is not None:\n",
    "            node.left = TreeNode(item)\n",
    "            queue.append(node.left)\n",
    "        \n",
    "        try:\n",
    "            item = next(iter_items)\n",
    "        except StopIteration:\n",
    "            break\n",
    "        \n",
    "        if item is not None:\n",
    "            node.right = TreeNode(item)\n",
    "            queue.append(node.right)\n",
    "    \n",
    "    return root\n",
    "\n",
    "# Function to check for duplicates in the binary tree\n",
    "def is_duplicate(root: TreeNode) -> int:\n",
    "    if not root:\n",
    "        return -1\n",
    "    \n",
    "    seen = set()\n",
    "    queue = deque([root])\n",
    "    \n",
    "    while queue:\n",
    "        current = queue.popleft()\n",
    "        if current.val in seen:\n",
    "            return current.val\n",
    "        seen.add(current.val)\n",
    "        if current.left:\n",
    "            queue.append(current.left)\n",
    "        if current.right:\n",
    "            queue.append(current.right)\n",
    "    \n",
    "    return -1\n",
    "\n"
   ]
  },
  {
   "cell_type": "markdown",
   "metadata": {},
   "source": [
    "\n",
    "-   Explain why their solution works in your own words.\n"
   ]
  },
  {
   "cell_type": "markdown",
   "metadata": {},
   "source": [
    "- Converts the list into a binary tree through the `list_to_binary_tree` func using an iterative approach.\n",
    "- iterates through the tree using `is_duplicate`. Using a breadth first search, He iterates over each node in the tree (using a queue). Each node is added to a set. If the node being searched for is in the set, the value is returned immediately. If the value is _not_ in the set, the left and right nodes are appended to the queue, if they exist. If they a duplicate is never found in the set, a -1 is returned."
   ]
  },
  {
   "cell_type": "markdown",
   "metadata": {},
   "source": [
    "\n",
    "-   Explain the problem’s time and space complexity in your own words.\n"
   ]
  },
  {
   "cell_type": "markdown",
   "metadata": {},
   "source": [
    "\n",
    "**Ignoring the conversion because that's not really part of the question. The primary ask is to check a binary tree, not to create one**\n",
    "\n",
    "The solution has a time and space complexity of O(n). It's possible for the algorithm to iterate over the entirety of the tree (only once thankfully), meaning we have a time complexity of O(n). Given that in the worst case the set being used to check for a duplicate will contain all nodes. This makes the space complexity O(n)."
   ]
  },
  {
   "cell_type": "markdown",
   "metadata": {},
   "source": [
    "\n",
    "-   Critique your partner's solution, including explanation, and if there is anything that should be adjusted.\n"
   ]
  },
  {
   "cell_type": "markdown",
   "metadata": {},
   "source": [
    "The implementation of the both the creation of the list, and the actual checking of the duplicate is solid. I'm usually one to avoid recursion in non tail-call optimized language (python recursion here could blow the stack on a sufficiently large tree), and my partner handled this well by using a queue and while loop.\n",
    "\n",
    "Their explanation of the space and time completiy is quite good as well. Far more in depth than what I went in my assignment.\n",
    "\n",
    "The only \"critique\" I can think of is if they wanted to push for a recursive solution. That said, I prefer performance over terseness, so I quite prefer how they used a loop instead. Makes the code far more easier to debug, and is easier to reason about."
   ]
  },
  {
   "cell_type": "markdown",
   "metadata": {},
   "source": [
    "\n",
    "## Part 3:\n",
    "\n",
    "Please write a 200 word reflection documenting your process from assignment 1, and your presentation and review experience with your partner at the bottom of the Jupyter Notebook under a new heading \"Reflection.\" Again, export this Notebook as pdf.\n"
   ]
  },
  {
   "cell_type": "markdown",
   "metadata": {},
   "source": [
    "### Reflection"
   ]
  },
  {
   "cell_type": "markdown",
   "metadata": {},
   "source": [
    "To be honest, these questions were fun to re-discover. I remember taking these courses over a decade ago, and found them quite annoying. Now though, they were significantly easier to reason about. That said, my biggest issue was the ambiquity of these questions, both for mine, and my partners questions. Using my experience as an example, the examples do not at all line up with the problem set. This led to confusion on my end, and what I can only assume is confusion on my partner's critique. Additionally, the fact that my partner had to create their own factory for a binary search tree is a bit problematic (in my opinion). If these questions are to be compared to leetcode, which they clearly are, then I'd argue that both the example sets, and the constructors _must_ be accurate and provided for. I've never been asked to create the data structure before working on it in an interview, and i've interviewed quite a fair bit.Overall though, I must stress again that this was englightening, and I had fun for the first time in a while. In the future, I'd like to see more functional aspects considered when working on these assignments, but that's a problem for future me. I could've been more functional, but I chose not to be (most likely because python isn't terribly functional)"
   ]
  },
  {
   "cell_type": "markdown",
   "metadata": {},
   "source": [
    "\n",
    "## Evaluation Criteria\n",
    "\n",
    "We are looking for the similar points as Assignment 1\n",
    "\n",
    "-   Problem is accurately stated\n",
    "\n",
    "-   New example is correct and easily understandable\n",
    "\n",
    "-   Correctness, time, and space complexity of the coding solution\n",
    "\n",
    "-   Clarity in explaining why the solution works, its time and space complexity\n",
    "\n",
    "-   Quality of critique of your partner's assignment, if necessary\n"
   ]
  },
  {
   "cell_type": "markdown",
   "metadata": {},
   "source": [
    "## Submission Information\n",
    "\n",
    "🚨 **Please review our [Assignment Submission Guide](https://github.com/UofT-DSI/onboarding/blob/main/onboarding_documents/submissions.md)** 🚨 for detailed instructions on how to format, branch, and submit your work. Following these guidelines is crucial for your submissions to be evaluated correctly.\n",
    "\n",
    "### Submission Parameters:\n",
    "* Submission Due Date: `HH:MM AM/PM - DD/MM/YYYY`\n",
    "* The branch name for your repo should be: `assignment-2`\n",
    "* What to submit for this assignment:\n",
    "    * This Jupyter Notebook (assignment_2.ipynb) should be populated and should be the only change in your pull request.\n",
    "* What the pull request link should look like for this assignment: `https://github.com/<your_github_username>/algorithms_and_data_structures/pull/<pr_id>`\n",
    "    * Open a private window in your browser. Copy and paste the link to your pull request into the address bar. Make sure you can see your pull request properly. This helps the technical facilitator and learning support staff review your submission easily.\n",
    "\n",
    "Checklist:\n",
    "- [ ] Created a branch with the correct naming convention.\n",
    "- [ ] Ensured that the repository is public.\n",
    "- [ ] Reviewed the PR description guidelines and adhered to them.\n",
    "- [ ] Verify that the link is accessible in a private browser window.\n",
    "\n",
    "If you encounter any difficulties or have questions, please don't hesitate to reach out to our team via our Slack at `#cohort-3-help`. Our Technical Facilitators and Learning Support staff are here to help you navigate any challenges.\n"
   ]
  }
 ],
 "metadata": {
  "language_info": {
   "name": "python"
  }
 },
 "nbformat": 4,
 "nbformat_minor": 2
}
